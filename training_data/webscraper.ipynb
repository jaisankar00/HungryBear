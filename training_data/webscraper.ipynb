{
 "cells": [
  {
   "cell_type": "code",
   "execution_count": 9,
   "metadata": {},
   "outputs": [],
   "source": [
    "from selenium import webdriver\n",
    "from selenium.webdriver.chrome.options import Options\n",
    "import pandas as pd\n",
    "import re"
   ]
  },
  {
   "cell_type": "code",
   "execution_count": 11,
   "metadata": {},
   "outputs": [
    {
     "name": "stderr",
     "output_type": "stream",
     "text": [
      "/Users/jaisankar/opt/anaconda3/lib/python3.7/site-packages/ipykernel_launcher.py:5: DeprecationWarning: use options instead of chrome_options\n",
      "  \"\"\"\n"
     ]
    }
   ],
   "source": [
    "options = Options()\n",
    "options.add_argument('--headless')\n",
    "options.add_argument('--log-level=3')\n",
    "\n",
    "driver = webdriver.Chrome(\"/Users/jaisankar/bin/chromedriver\",chrome_options=options)\n",
    "\n",
    "cuisine_to_link = {\"indian\":\"https://www.allrecipes.com/recipes/233/world-cuisine/asian/indian/?page=\",\n",
    "                    \"mexican\":\"https://www.allrecipes.com/recipes/728/world-cuisine/latin-american/mexican/?page=\",\n",
    "                    \"chinese\":\"https://www.allrecipes.com/recipes/695/world-cuisine/asian/chinese/?page=\",\n",
    "                    \"american\":\"https://www.allrecipes.com/recipes/236/us-recipes/?page=\",\n",
    "                    \"mediterranean\":\"https://www.allrecipes.com/recipes/16704/healthy-recipes/mediterranean-diet/?page=\",\n",
    "                    \"japanese\":\"https://www.allrecipes.com/recipes/699/world-cuisine/asian/japanese/?page=\",\n",
    "                    \"thai\":\"https://www.allrecipes.com/recipes/702/world-cuisine/asian/thai/?page=\",\n",
    "                    \"italian\": \"https://www.allrecipes.com/recipes/723/world-cuisine/european/italian/?page=\"\n",
    "                   }\n",
    "\n",
    "\n",
    "all_words = []\n",
    "words_per_cuisine = {\"indian\": [],\"mexican\": [], \"chinese\": [], \"american\": [], \"mediterranean\": [],\n",
    "                     \"japanese\": [], \"thai\": [], \"italian\": []}\n",
    "\n",
    "for cuisine in cuisine_to_link.keys():\n",
    "    \n",
    "    counter = 1\n",
    "    while counter < 25:\n",
    "        driver.get(cuisine_to_link[cuisine] + str(counter))\n",
    "        page_elems = driver.find_elements_by_class_name(\"fixed-recipe-card__title-link\")\n",
    "        \n",
    "        if len(page_elems) != 0:\n",
    "            for card in page_elems:\n",
    "                if (\"<\" not in card.get_attribute(\"innerHTML\")):\n",
    "                    recipe = card.get_attribute(\"innerHTML\")\n",
    "                    for word in recipe.split():\n",
    "                        trimmed = re.sub('[^A-Za-z0-9]+', '', word)\n",
    "                        all_words.append(trimmed)\n",
    "                        words_per_cuisine[cuisine].append(trimmed)\n",
    "                    \n",
    "        else:\n",
    "            break\n",
    "        counter += 1\n",
    "        "
   ]
  },
  {
   "cell_type": "code",
   "execution_count": 38,
   "metadata": {},
   "outputs": [],
   "source": [
    "removed_duplicates = set(all_words)\n",
    "\n",
    "term_frequency_dict = {word:[] for word in removed_duplicates}\n",
    "\n",
    "for key in term_frequency_dict.keys():\n",
    "    for cuisine in words_per_cuisine.keys():\n",
    "        term_frequency_dict[key].append(words_per_cuisine[cuisine].count(key))\n",
    "\n",
    "df = pd.DataFrame.from_dict(term_frequency_dict,orient='index')\n",
    "df.to_csv(\"term_frequency_matrix.csv\",index=True)"
   ]
  }
 ],
 "metadata": {
  "kernelspec": {
   "display_name": "Python 3",
   "language": "python",
   "name": "python3"
  },
  "language_info": {
   "codemirror_mode": {
    "name": "ipython",
    "version": 3
   },
   "file_extension": ".py",
   "mimetype": "text/x-python",
   "name": "python",
   "nbconvert_exporter": "python",
   "pygments_lexer": "ipython3",
   "version": "3.7.4"
  }
 },
 "nbformat": 4,
 "nbformat_minor": 2
}
